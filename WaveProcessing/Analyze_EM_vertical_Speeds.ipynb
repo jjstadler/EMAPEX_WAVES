{
 "cells": [
  {
   "cell_type": "code",
   "execution_count": 2,
   "id": "f424bf93",
   "metadata": {},
   "outputs": [
    {
     "name": "stderr",
     "output_type": "stream",
     "text": [
      "/var/folders/77/7yfflvs902s95j6rlhb5yn9c0000gn/T/ipykernel_56789/3145116783.py:85: RuntimeWarning: invalid value encountered in double_scalars\n",
      "  w_temp[i] = diffP/diffT\n"
     ]
    }
   ],
   "source": [
    "#Determine average descent/ascent speed of each spectral window\n",
    "\n",
    "from scipy.io import loadmat\n",
    "from scipy import signal\n",
    "import numpy as np\n",
    "import time\n",
    "import pyIGRF\n",
    "import datetime\n",
    "import pandas as pd\n",
    "import matplotlib.pyplot as plt\n",
    "#from wavesim1d import *\n",
    "from em_apex_processing import *\n",
    "from spectral_processing import *\n",
    "import os\n",
    "import warnings\n",
    "\n",
    "\n",
    "\n",
    "### Load Files ###\n",
    "fname_base = \"/Volumes/TFO-5TB-3/TFO/LCDRI/raw_data/\"\n",
    "save_dir = \"/Volumes/TFO-5TB-3/TFO/LCDRI/processed_data/James_output/Spectra/\"\n",
    "float_list = os.listdir(fname_base)\n",
    "\n",
    "\n",
    "#float_list = ['6667i']\n",
    "#Loop through every float_id\n",
    "big_w_store = [];\n",
    "big_time_store = [];\n",
    "float_id_counter = 0\n",
    "ignore_count = 0\n",
    "too_deep_counter = 0\n",
    "min_bin = []\n",
    "for float_id in float_list:\n",
    "    \n",
    "    if \"grid\" in float_id:\n",
    "        continue\n",
    "        \n",
    "    dec_name = fname_base+float_id+\"/dec/\"\n",
    "    \n",
    "    #Loop through each profile for that float\n",
    "    files = os.listdir(dec_name)\n",
    "    efr_files = [file for file in files if \"efr.mat\" in file and not file.startswith('.')]\n",
    "    \n",
    "    w_store = np.zeros(len(efr_files))\n",
    "    time_store = np.zeros(len(efr_files))\n",
    "    up_down_store = np.zeros(len(efr_files))\n",
    "    counter=0\n",
    "    #Load each profiling file, and then calculate the 1D spectrum\n",
    "    for file in efr_files:\n",
    "        fname = dec_name + file\n",
    "        EFR = loadmat(fname)\n",
    "        cut = fname.find(\"efr\")\n",
    "        ctdfname = fname[:cut]+\"ctd.mat\"\n",
    "        CTD = loadmat(ctdfname)\n",
    "        \n",
    "        prof_num = int(file.split('-')[2])\n",
    "        #Load the UXT times, and correct\n",
    "        \n",
    "        efr_times = EFR['UXT'] - EFR['AGE']\n",
    "        efr_times = efr_times[0, :]\n",
    "        seqno = EFR['SEQNO'][0, :]\n",
    "        \n",
    "        #Fit UXT times to sequence number (measurement # for that profile) to make sure monotonically increasing\n",
    "        p = np.polyfit(seqno,efr_times,1)\n",
    "        pfit = np.poly1d(p)\n",
    "        mlt_efr = pfit(seqno);\n",
    "        \n",
    "        ctd_time = CTD[\"UXT\"][0, :]\n",
    "        P = CTD[\"P\"][0, :]\n",
    "        Pef = np.interp(mlt_efr, ctd_time, P)\n",
    "        \n",
    "        overlap = 60\n",
    "        nblock = 120\n",
    "        fs = 1\n",
    "        #A little hacky way to just reshape the depth timeseries\n",
    "        [t_new, P_new] = reshape_u(mlt_efr, Pef, nblock, overlap, fs)\n",
    "        w_temp = np.zeros(P_new.shape[0])\n",
    "        for i in range(P_new.shape[0]):\n",
    "            pstart = P_new[i, 0]\n",
    "            tstart = t_new[i, 0]\n",
    "            tend = t_new[i, -1]\n",
    "            pend = P_new[i, -1]\n",
    "            diffP = abs(pend-pstart)\n",
    "            diffT = abs(tend-tstart)\n",
    "            w_temp[i] = diffP/diffT\n",
    "        w_store[counter] = np.nanmean(w_temp)\n",
    "        time_store[counter]=np.nanmean(mlt_efr)\n",
    "        \n",
    "        if prof_num%2==0:\n",
    "            #Then it's even and its an up profile\n",
    "            up_down_store[counter] = 1\n",
    "        else:\n",
    "            up_down_store[counter] = 0\n",
    "            \n",
    "        counter+=1\n",
    "\n",
    "    if float_id_counter==0:\n",
    "        big_w_store=w_store\n",
    "        big_time_store = time_store\n",
    "        big_up_down_store = up_down_store\n",
    "    else:\n",
    "        big_w_store = np.append(big_w_store, w_store, axis=0)\n",
    "        big_time_store = np.append(big_time_store, time_store)\n",
    "        big_up_down_store = np.append(big_up_down_store, up_down_store)\n",
    "\n",
    "\n",
    "    float_id_counter+=1\n"
   ]
  },
  {
   "cell_type": "code",
   "execution_count": 9,
   "id": "18001609",
   "metadata": {},
   "outputs": [
    {
     "data": {
      "text/plain": [
       "array([0.12484374, 0.12334737, 0.12026317, 0.12029887, 0.12135224,\n",
       "       0.113943  , 0.10787345, 0.10992698, 0.1119175 , 0.11460686,\n",
       "       0.12170644, 0.12813176])"
      ]
     },
     "execution_count": 9,
     "metadata": {},
     "output_type": "execute_result"
    }
   ],
   "source": [
    "w_temp"
   ]
  },
  {
   "cell_type": "code",
   "execution_count": 10,
   "id": "dffa89b2",
   "metadata": {},
   "outputs": [
    {
     "data": {
      "text/plain": [
       "array([0.12484374, 0.12334737, 0.12026317, 0.12029887, 0.12135224,\n",
       "       0.113943  , 0.10787345, 0.10992698, 0.1119175 , 0.11460686,\n",
       "       0.12170644, 0.12813176])"
      ]
     },
     "execution_count": 10,
     "metadata": {},
     "output_type": "execute_result"
    }
   ],
   "source": [
    "np.abs(P_new[:, 0]-P_new[:, -1])/np.abs(t_new[:, 0]-t_new[:, -1])"
   ]
  },
  {
   "cell_type": "code",
   "execution_count": 93,
   "id": "a36e4c40",
   "metadata": {},
   "outputs": [
    {
     "data": {
      "text/plain": [
       "<matplotlib.legend.Legend at 0x7f8ca99d6610>"
      ]
     },
     "execution_count": 93,
     "metadata": {},
     "output_type": "execute_result"
    },
    {
     "data": {
      "image/png": "[encoded data removed]",
      "text/plain": [
       "<Figure size 640x480 with 2 Axes>"
      ]
     },
     "metadata": {},
     "output_type": "display_data"
    }
   ],
   "source": [
    "z_inds = np.where(big_w_store==0)\n",
    "big_w_store[z_inds]=np.NaN\n",
    "\n",
    "up_inds = np.where(big_up_down_store==1)\n",
    "down_inds = np.where(big_up_down_store==0)\n",
    "\n",
    "\n",
    "\n",
    "w_up_mean = np.nanmean(big_w_store[up_inds])\n",
    "w_up_std = np.nanstd(big_w_store[up_inds])\n",
    "w_down_mean = np.nanmean(big_w_store[down_inds])\n",
    "w_down_std = np.nanstd(big_w_store[down_inds])\n",
    "\n",
    "plt.figure()\n",
    "plt.subplot(121)\n",
    "plt.hist(big_w_store[up_inds], label=\"Avg: \"+str(round(w_up_mean,3)))\n",
    "plt.title(\"Histogram of up velocities\")\n",
    "plt.xlabel(\"Average profiling speed (m/s)\")\n",
    "plt.legend(loc='upper left')\n",
    "\n",
    "plt.subplot(122)\n",
    "plt.hist(big_w_store[down_inds], label=\"Avg: \"+str(round(w_down_mean,3)))\n",
    "plt.title(\"Histogram of down velocities\")\n",
    "plt.xlabel(\"Average profiling speed (m/s)\")\n",
    "plt.legend(loc='upper left')\n",
    "\n",
    "\n"
   ]
  },
  {
   "cell_type": "code",
   "execution_count": null,
   "id": "97bf98cc",
   "metadata": {},
   "outputs": [],
   "source": []
  },
  {
   "cell_type": "code",
   "execution_count": 75,
   "id": "ae3cde2f",
   "metadata": {},
   "outputs": [
    {
     "name": "stdout",
     "output_type": "stream",
     "text": [
      "0.11981761391372332\n",
      "0.13345408852176271\n"
     ]
    }
   ],
   "source": [
    "#How do "
   ]
  },
  {
   "cell_type": "code",
   "execution_count": 23,
   "id": "23344f15",
   "metadata": {},
   "outputs": [],
   "source": [
    "diffP = CTD[\"P\"][0][0]-CTD[\"P\"][0][-1]\n",
    "diffT = abs(CTD[\"UXT\"][0][0]-CTD[\"UXT\"][0][-1])"
   ]
  },
  {
   "cell_type": "code",
   "execution_count": 25,
   "id": "a2529c2f",
   "metadata": {},
   "outputs": [
    {
     "data": {
      "text/plain": [
       "0.11672685731132075"
      ]
     },
     "execution_count": 25,
     "metadata": {},
     "output_type": "execute_result"
    }
   ],
   "source": [
    "diffP/diffT"
   ]
  },
  {
   "cell_type": "code",
   "execution_count": 22,
   "id": "0b183a66",
   "metadata": {},
   "outputs": [
    {
     "data": {
      "text/plain": [
       "1219.0"
      ]
     },
     "execution_count": 22,
     "metadata": {},
     "output_type": "execute_result"
    }
   ],
   "source": [
    "abs(CTD[\"UXT\"][0][0]-CTD[\"UXT\"][0][-1])"
   ]
  },
  {
   "cell_type": "code",
   "execution_count": 62,
   "id": "fe26553a",
   "metadata": {},
   "outputs": [
    {
     "data": {
      "text/plain": [
       "142"
      ]
     },
     "execution_count": 62,
     "metadata": {},
     "output_type": "execute_result"
    }
   ],
   "source": [
    "prof_num"
   ]
  },
  {
   "cell_type": "code",
   "execution_count": 68,
   "id": "2ed81640",
   "metadata": {},
   "outputs": [
    {
     "data": {
      "text/plain": [
       "(174,)"
      ]
     },
     "execution_count": 68,
     "metadata": {},
     "output_type": "execute_result"
    }
   ],
   "source": [
    "big_up_down_store.shape"
   ]
  },
  {
   "cell_type": "code",
   "execution_count": 69,
   "id": "96429f7c",
   "metadata": {},
   "outputs": [
    {
     "data": {
      "text/plain": [
       "(166,)"
      ]
     },
     "execution_count": 69,
     "metadata": {},
     "output_type": "execute_result"
    }
   ],
   "source": [
    "big_w_store.shape"
   ]
  },
  {
   "cell_type": "code",
   "execution_count": null,
   "id": "f83a7248",
   "metadata": {},
   "outputs": [],
   "source": []
  }
 ],
 "metadata": {
  "kernelspec": {
   "display_name": "Python 3 (ipykernel)",
   "language": "python",
   "name": "python3"
  },
  "language_info": {
   "codemirror_mode": {
    "name": "ipython",
    "version": 3
   },
   "file_extension": ".py",
   "mimetype": "text/x-python",
   "name": "python",
   "nbconvert_exporter": "python",
   "pygments_lexer": "ipython3",
   "version": "3.9.13"
  }
 },
 "nbformat": 4,
 "nbformat_minor": 5
}
