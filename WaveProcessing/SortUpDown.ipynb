{
 "cells": [
  {
   "cell_type": "code",
   "execution_count": 3,
   "id": "25f7ef08",
   "metadata": {},
   "outputs": [],
   "source": [
    "\"Script to copy all the up and down profiles into their own folders\"\n",
    "\n",
    "import subprocess\n",
    "import os"
   ]
  },
  {
   "cell_type": "code",
   "execution_count": 6,
   "id": "154e7530",
   "metadata": {},
   "outputs": [],
   "source": [
    "fname_base = \"/Users/jamesstadler/Documents/UW/TFO/Data/LCDRI/EmApex_Data/lcdri/\"\n",
    "save_up_dir = \"/Users/jamesstadler/Documents/UW/TFO/Data/LCDRI/EmApex_Data/up_downs/up/\"\n",
    "save_down_dir = \"/Users/jamesstadler/Documents/UW/TFO/Data/LCDRI/EmApex_Data/up_downs/down/\"\n",
    "\n",
    "\n",
    "float_list = os.listdir(fname_base)\n",
    "\n",
    "for float_id in float_list:\n",
    "    \n",
    "    if \"grid\" in float_id:\n",
    "        continue\n",
    "    if \".DS_\" in float_id:\n",
    "        continue\n",
    "        \n",
    "    dec_name = fname_base+float_id+\"/dec/\"\n",
    "    \n",
    "    #Loop through each profile for that float\n",
    "    files = os.listdir(dec_name)\n",
    "    efr_files = [file for file in files if \"efr.mat\" in file and not file.startswith('.')]\n",
    "    \n",
    "    for file in efr_files:\n",
    "        fname = dec_name + file\n",
    "        \n",
    "        cut = fname.find(\"efr\")\n",
    "        ctdfname = fname[:cut]+\"ctd.mat\"\n",
    "        \n",
    "\n",
    "        if prof_num%2==0:\n",
    "            #put in the up files\n",
    "            save_fname = save_up_dir+float_id+\"_\"+file\n",
    "            save_cut = save_fname.find(\"efr\")\n",
    "            save_ctdfname = save_fname[:cut]+\"ctd.mat\"\n",
    "            os.system(\"cp \"+fname+\" \" + save_fname )  \n",
    "            os.system(\"cp \"+ctdfname+\" \" + save_ctdfname)\n",
    "            \n",
    "        else:\n",
    "            save_fname = save_down_dir+float_id+\"_\"+file\n",
    "            save_cut = save_fname.find(\"efr\")\n",
    "            save_ctdfname = save_fname[:cut]+\"ctd.mat\"\n",
    "            os.system(\"cp \"+fname+\" \" + save_fname )  \n",
    "            os.system(\"cp \"+ctdfname+\" \" + save_ctdfname)\n",
    "\n",
    "\n",
    "            #put in the down files"
   ]
  },
  {
   "cell_type": "code",
   "execution_count": null,
   "id": "8bc52555",
   "metadata": {},
   "outputs": [],
   "source": []
  }
 ],
 "metadata": {
  "kernelspec": {
   "display_name": "Python 3 (ipykernel)",
   "language": "python",
   "name": "python3"
  },
  "language_info": {
   "codemirror_mode": {
    "name": "ipython",
    "version": 3
   },
   "file_extension": ".py",
   "mimetype": "text/x-python",
   "name": "python",
   "nbconvert_exporter": "python",
   "pygments_lexer": "ipython3",
   "version": "3.9.13"
  }
 },
 "nbformat": 4,
 "nbformat_minor": 5
}
