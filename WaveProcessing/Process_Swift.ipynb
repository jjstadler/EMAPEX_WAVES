{
 "cells": [
  {
   "cell_type": "code",
   "execution_count": 1,
   "id": "f1c731cb",
   "metadata": {},
   "outputs": [],
   "source": [
    "#Script for processing SWIFT Wave data\n",
    "\n",
    "from scipy.io import loadmat\n",
    "import numpy as np\n",
    "import pandas as pd\n",
    "import matplotlib.pyplot as plt\n",
    "from scipy.io import netcdf\n",
    "import os\n",
    "import datetime\n",
    "\n",
    "\n",
    "from src.em_apex_processing import *\n",
    "from src.spectral_processing import *\n",
    "\n",
    "fname = \"/Users/jamesstadler/Documents/UW/TFO/Data/LCDRI/SWIFT/SWIFT12_01Apr2017.mat\"\n",
    "\n",
    "SWIFT = loadmat(fname)"
   ]
  },
  {
   "cell_type": "code",
   "execution_count": 2,
   "id": "c10d4769",
   "metadata": {},
   "outputs": [],
   "source": [
    "swift = np.transpose(SWIFT['SWIFT'])\n",
    "mdtype = swift.dtype\n",
    "ndata = {n: swift[n] for n in mdtype.names}\n",
    "columns = [n for (n, v) in ndata.items()]\n",
    "df = pd.DataFrame(np.concatenate([ndata[c] for c in columns], axis=1, dtype='object'), columns=columns)\n",
    "df['lat']=np.array(df['lat'], dtype=float)\n",
    "df['lon']=np.array(df['lon'], dtype=float)\n",
    "df['sigwaveheight']=np.array(df['sigwaveheight'], dtype=float)\n",
    "df['time']=np.array(df['time'], dtype=float)\n",
    "\n"
   ]
  },
  {
   "cell_type": "code",
   "execution_count": 3,
   "id": "8a86e5c2",
   "metadata": {},
   "outputs": [
    {
     "data": {
      "text/plain": [
       "array([datetime.datetime(2017, 4, 4, 0, 0),\n",
       "       datetime.datetime(2017, 4, 4, 0, 11, 59),\n",
       "       datetime.datetime(2017, 4, 4, 0, 24),\n",
       "       datetime.datetime(2017, 4, 4, 0, 36),\n",
       "       datetime.datetime(2017, 4, 4, 0, 47, 59),\n",
       "       datetime.datetime(2017, 4, 4, 0, 59, 59),\n",
       "       datetime.datetime(2017, 4, 4, 1, 12),\n",
       "       datetime.datetime(2017, 4, 4, 1, 24),\n",
       "       datetime.datetime(2017, 4, 4, 2, 35, 59),\n",
       "       datetime.datetime(2017, 4, 4, 2, 48),\n",
       "       datetime.datetime(2017, 4, 4, 3, 0),\n",
       "       datetime.datetime(2017, 4, 4, 3, 11, 59),\n",
       "       datetime.datetime(2017, 4, 4, 3, 24),\n",
       "       datetime.datetime(2017, 4, 4, 3, 36),\n",
       "       datetime.datetime(2017, 4, 4, 3, 47, 59),\n",
       "       datetime.datetime(2017, 4, 4, 3, 59, 59),\n",
       "       datetime.datetime(2017, 4, 4, 4, 12),\n",
       "       datetime.datetime(2017, 4, 4, 4, 24),\n",
       "       datetime.datetime(2017, 4, 4, 4, 35, 59),\n",
       "       datetime.datetime(2017, 4, 4, 4, 47, 59),\n",
       "       datetime.datetime(2017, 4, 4, 5, 0),\n",
       "       datetime.datetime(2017, 4, 4, 5, 12),\n",
       "       datetime.datetime(2017, 4, 4, 5, 23, 59),\n",
       "       datetime.datetime(2017, 4, 4, 5, 35, 59),\n",
       "       datetime.datetime(2017, 4, 4, 5, 48),\n",
       "       datetime.datetime(2017, 4, 4, 6, 0),\n",
       "       datetime.datetime(2017, 4, 4, 6, 11, 59),\n",
       "       datetime.datetime(2017, 4, 4, 6, 24),\n",
       "       datetime.datetime(2017, 4, 4, 6, 36),\n",
       "       datetime.datetime(2017, 4, 4, 6, 47, 59),\n",
       "       datetime.datetime(2017, 4, 4, 7, 12),\n",
       "       datetime.datetime(2017, 4, 4, 7, 24),\n",
       "       datetime.datetime(2017, 4, 4, 7, 35, 59),\n",
       "       datetime.datetime(2017, 4, 4, 7, 47, 59),\n",
       "       datetime.datetime(2017, 4, 4, 8, 0),\n",
       "       datetime.datetime(2017, 4, 4, 8, 12),\n",
       "       datetime.datetime(2017, 4, 4, 8, 23, 59),\n",
       "       datetime.datetime(2017, 4, 4, 8, 35, 59),\n",
       "       datetime.datetime(2017, 4, 4, 8, 48),\n",
       "       datetime.datetime(2017, 4, 4, 9, 0),\n",
       "       datetime.datetime(2017, 4, 4, 9, 11, 59),\n",
       "       datetime.datetime(2017, 4, 4, 9, 24),\n",
       "       datetime.datetime(2017, 4, 4, 9, 36),\n",
       "       datetime.datetime(2017, 4, 4, 9, 47, 59),\n",
       "       datetime.datetime(2017, 4, 4, 9, 59, 59),\n",
       "       datetime.datetime(2017, 4, 4, 10, 12),\n",
       "       datetime.datetime(2017, 4, 4, 10, 24),\n",
       "       datetime.datetime(2017, 4, 4, 10, 35, 59),\n",
       "       datetime.datetime(2017, 4, 4, 10, 47, 59),\n",
       "       datetime.datetime(2017, 4, 4, 11, 0),\n",
       "       datetime.datetime(2017, 4, 4, 11, 12),\n",
       "       datetime.datetime(2017, 4, 4, 11, 23, 59),\n",
       "       datetime.datetime(2017, 4, 4, 11, 35, 59),\n",
       "       datetime.datetime(2017, 4, 4, 11, 48),\n",
       "       datetime.datetime(2017, 4, 4, 12, 0),\n",
       "       datetime.datetime(2017, 4, 4, 12, 11, 59),\n",
       "       datetime.datetime(2017, 4, 4, 12, 24),\n",
       "       datetime.datetime(2017, 4, 4, 12, 36),\n",
       "       datetime.datetime(2017, 4, 4, 12, 47, 59),\n",
       "       datetime.datetime(2017, 4, 4, 12, 59, 59),\n",
       "       datetime.datetime(2017, 4, 4, 13, 12),\n",
       "       datetime.datetime(2017, 4, 4, 13, 24),\n",
       "       datetime.datetime(2017, 4, 4, 13, 35, 59),\n",
       "       datetime.datetime(2017, 4, 4, 13, 47, 59),\n",
       "       datetime.datetime(2017, 4, 4, 14, 0),\n",
       "       datetime.datetime(2017, 4, 4, 14, 12),\n",
       "       datetime.datetime(2017, 4, 4, 14, 23, 59),\n",
       "       datetime.datetime(2017, 4, 4, 14, 35, 59),\n",
       "       datetime.datetime(2017, 4, 4, 14, 48),\n",
       "       datetime.datetime(2017, 4, 4, 15, 0),\n",
       "       datetime.datetime(2017, 4, 4, 15, 11, 59),\n",
       "       datetime.datetime(2017, 4, 4, 15, 24),\n",
       "       datetime.datetime(2017, 4, 4, 15, 36),\n",
       "       datetime.datetime(2017, 4, 4, 15, 47, 59),\n",
       "       datetime.datetime(2017, 4, 4, 15, 59, 59),\n",
       "       datetime.datetime(2017, 4, 4, 16, 12),\n",
       "       datetime.datetime(2017, 4, 4, 16, 24),\n",
       "       datetime.datetime(2017, 4, 4, 16, 35, 59),\n",
       "       datetime.datetime(2017, 4, 4, 16, 47, 59),\n",
       "       datetime.datetime(2017, 4, 4, 17, 0),\n",
       "       datetime.datetime(2017, 4, 4, 17, 12),\n",
       "       datetime.datetime(2017, 4, 4, 17, 23, 59),\n",
       "       datetime.datetime(2017, 4, 4, 17, 35, 59),\n",
       "       datetime.datetime(2017, 4, 4, 17, 48),\n",
       "       datetime.datetime(2017, 4, 4, 18, 0),\n",
       "       datetime.datetime(2017, 4, 4, 18, 11, 59),\n",
       "       datetime.datetime(2017, 4, 4, 18, 24),\n",
       "       datetime.datetime(2017, 4, 4, 18, 36),\n",
       "       datetime.datetime(2017, 4, 4, 18, 47, 59),\n",
       "       datetime.datetime(2017, 4, 4, 18, 59, 59),\n",
       "       datetime.datetime(2017, 4, 4, 19, 12),\n",
       "       datetime.datetime(2017, 4, 4, 19, 24),\n",
       "       datetime.datetime(2017, 4, 4, 19, 35, 59),\n",
       "       datetime.datetime(2017, 4, 4, 19, 47, 59),\n",
       "       datetime.datetime(2017, 4, 4, 20, 0),\n",
       "       datetime.datetime(2017, 4, 4, 20, 12),\n",
       "       datetime.datetime(2017, 4, 4, 20, 23, 59),\n",
       "       datetime.datetime(2017, 4, 4, 20, 35, 59),\n",
       "       datetime.datetime(2017, 4, 4, 20, 48),\n",
       "       datetime.datetime(2017, 4, 4, 21, 0),\n",
       "       datetime.datetime(2017, 4, 4, 21, 11, 59),\n",
       "       datetime.datetime(2017, 4, 4, 21, 24),\n",
       "       datetime.datetime(2017, 4, 4, 21, 36),\n",
       "       datetime.datetime(2017, 4, 4, 21, 47, 59),\n",
       "       datetime.datetime(2017, 4, 4, 21, 59, 59),\n",
       "       datetime.datetime(2017, 4, 4, 22, 12),\n",
       "       datetime.datetime(2017, 4, 4, 22, 24),\n",
       "       datetime.datetime(2017, 4, 4, 22, 35, 59),\n",
       "       datetime.datetime(2017, 4, 4, 22, 47, 59),\n",
       "       datetime.datetime(2017, 4, 4, 23, 0),\n",
       "       datetime.datetime(2017, 4, 4, 23, 12),\n",
       "       datetime.datetime(2017, 4, 4, 23, 23, 59),\n",
       "       datetime.datetime(2017, 4, 4, 23, 35, 59),\n",
       "       datetime.datetime(2017, 4, 4, 23, 48)], dtype=object)"
      ]
     },
     "execution_count": 3,
     "metadata": {},
     "output_type": "execute_result"
    }
   ],
   "source": [
    "#Process datetimes\n",
    "dates = datenum_to_datetime(df['time'])\n",
    "# Get just a single day (e.g. april 4th)\n",
    "apr4_inds = [dates[i].day==4 for i in range(len(dates))]\n",
    "dates[apr4_inds]"
   ]
  },
  {
   "cell_type": "code",
   "execution_count": 4,
   "id": "1b349d41",
   "metadata": {},
   "outputs": [
    {
     "ename": "KeyError",
     "evalue": "'tid'",
     "output_type": "error",
     "traceback": [
      "\u001b[0;31m---------------------------------------------------------------------------\u001b[0m",
      "\u001b[0;31mKeyError\u001b[0m                                  Traceback (most recent call last)",
      "Input \u001b[0;32mIn [4]\u001b[0m, in \u001b[0;36m<cell line: 6>\u001b[0;34m()\u001b[0m\n\u001b[1;32m      4\u001b[0m bath_lat\u001b[38;5;241m=\u001b[39m nc\u001b[38;5;241m.\u001b[39mvariables[\u001b[38;5;124m'\u001b[39m\u001b[38;5;124mlat\u001b[39m\u001b[38;5;124m'\u001b[39m][:]\n\u001b[1;32m      5\u001b[0m bath_lon \u001b[38;5;241m=\u001b[39m nc\u001b[38;5;241m.\u001b[39mvariables[\u001b[38;5;124m'\u001b[39m\u001b[38;5;124mlon\u001b[39m\u001b[38;5;124m'\u001b[39m][:]\n\u001b[0;32m----> 6\u001b[0m bath_z \u001b[38;5;241m=\u001b[39m \u001b[43mnc\u001b[49m\u001b[38;5;241;43m.\u001b[39;49m\u001b[43mvariables\u001b[49m\u001b[43m[\u001b[49m\u001b[38;5;124;43m'\u001b[39;49m\u001b[38;5;124;43mtid\u001b[39;49m\u001b[38;5;124;43m'\u001b[39;49m\u001b[43m]\u001b[49m[:]\n",
      "\u001b[0;31mKeyError\u001b[0m: 'tid'"
     ]
    }
   ],
   "source": [
    "#Load Bathymetry\n",
    "bath_fname = '/Users/jamesstadler/Documents/UW/TFO/Data/LCDRI/gebco_2022_SoCal.nc'\n",
    "nc = netcdf.NetCDFFile(bath_fname, 'r', mmap=False) #Not sure why I need to do mmap = False but it gets rid of a warning\n",
    "bath_lat= nc.variables['lat'][:]\n",
    "bath_lon = nc.variables['lon'][:]\n",
    "bath_z = nc.variables['tid'][:]\n"
   ]
  },
  {
   "cell_type": "code",
   "execution_count": 5,
   "id": "b436cd6b",
   "metadata": {},
   "outputs": [
    {
     "ename": "NameError",
     "evalue": "name 'bath_z' is not defined",
     "output_type": "error",
     "traceback": [
      "\u001b[0;31m---------------------------------------------------------------------------\u001b[0m",
      "\u001b[0;31mNameError\u001b[0m                                 Traceback (most recent call last)",
      "Input \u001b[0;32mIn [5]\u001b[0m, in \u001b[0;36m<cell line: 1>\u001b[0;34m()\u001b[0m\n\u001b[0;32m----> 1\u001b[0m plt\u001b[38;5;241m.\u001b[39mcontourf(bath_lon, bath_lat, \u001b[43mbath_z\u001b[49m)\n\u001b[1;32m      2\u001b[0m cm \u001b[38;5;241m=\u001b[39m plt\u001b[38;5;241m.\u001b[39mcm\u001b[38;5;241m.\u001b[39mget_cmap(\u001b[38;5;124m'\u001b[39m\u001b[38;5;124mviridis\u001b[39m\u001b[38;5;124m'\u001b[39m)\n\u001b[1;32m      3\u001b[0m plt\u001b[38;5;241m.\u001b[39mscatter(df[\u001b[38;5;124m'\u001b[39m\u001b[38;5;124mlon\u001b[39m\u001b[38;5;124m'\u001b[39m][apr4_inds], df[\u001b[38;5;124m'\u001b[39m\u001b[38;5;124mlat\u001b[39m\u001b[38;5;124m'\u001b[39m][apr4_inds], c\u001b[38;5;241m=\u001b[39mdf[\u001b[38;5;124m'\u001b[39m\u001b[38;5;124msigwaveheight\u001b[39m\u001b[38;5;124m'\u001b[39m][apr4_inds], cmap\u001b[38;5;241m=\u001b[39mcm)\n",
      "\u001b[0;31mNameError\u001b[0m: name 'bath_z' is not defined"
     ]
    }
   ],
   "source": [
    "plt.contourf(bath_lon, bath_lat, bath_z)\n",
    "cm = plt.cm.get_cmap('viridis')\n",
    "plt.scatter(df['lon'][apr4_inds], df['lat'][apr4_inds], c=df['sigwaveheight'][apr4_inds], cmap=cm)\n",
    "plt.xlim([-119.5, -118.0])\n",
    "plt.ylim([33.0, 34.0])\n",
    "plt.colorbar()"
   ]
  },
  {
   "cell_type": "code",
   "execution_count": 6,
   "id": "0bdd4928",
   "metadata": {},
   "outputs": [
    {
     "ename": "NameError",
     "evalue": "name 'cm' is not defined",
     "output_type": "error",
     "traceback": [
      "\u001b[0;31m---------------------------------------------------------------------------\u001b[0m",
      "\u001b[0;31mNameError\u001b[0m                                 Traceback (most recent call last)",
      "Input \u001b[0;32mIn [6]\u001b[0m, in \u001b[0;36m<cell line: 1>\u001b[0;34m()\u001b[0m\n\u001b[0;32m----> 1\u001b[0m plt\u001b[38;5;241m.\u001b[39mscatter(df[\u001b[38;5;124m'\u001b[39m\u001b[38;5;124mlon\u001b[39m\u001b[38;5;124m'\u001b[39m][apr4_inds], df[\u001b[38;5;124m'\u001b[39m\u001b[38;5;124mlat\u001b[39m\u001b[38;5;124m'\u001b[39m][apr4_inds], c\u001b[38;5;241m=\u001b[39mdf[\u001b[38;5;124m'\u001b[39m\u001b[38;5;124msigwaveheight\u001b[39m\u001b[38;5;124m'\u001b[39m][apr4_inds], cmap\u001b[38;5;241m=\u001b[39m\u001b[43mcm\u001b[49m)\n\u001b[1;32m      2\u001b[0m plt\u001b[38;5;241m.\u001b[39mcolorbar()\n\u001b[1;32m      5\u001b[0m plt\u001b[38;5;241m.\u001b[39mscatter(df[\u001b[38;5;124m'\u001b[39m\u001b[38;5;124mlon\u001b[39m\u001b[38;5;124m'\u001b[39m][apr4_inds]\u001b[38;5;241m.\u001b[39miloc[\u001b[38;5;241m60\u001b[39m], df[\u001b[38;5;124m'\u001b[39m\u001b[38;5;124mlat\u001b[39m\u001b[38;5;124m'\u001b[39m][apr4_inds]\u001b[38;5;241m.\u001b[39miloc[\u001b[38;5;241m60\u001b[39m], color\u001b[38;5;241m=\u001b[39m\u001b[38;5;124m'\u001b[39m\u001b[38;5;124mk\u001b[39m\u001b[38;5;124m'\u001b[39m)\n",
      "\u001b[0;31mNameError\u001b[0m: name 'cm' is not defined"
     ]
    }
   ],
   "source": [
    "plt.scatter(df['lon'][apr4_inds], df['lat'][apr4_inds], c=df['sigwaveheight'][apr4_inds], cmap=cm)\n",
    "plt.colorbar()\n",
    "\n",
    "\n",
    "plt.scatter(df['lon'][apr4_inds].iloc[60], df['lat'][apr4_inds].iloc[60], color='k')\n",
    "\n",
    "plt.figure()\n",
    "plt.plot(df['sigwaveheight'][apr4_inds])"
   ]
  },
  {
   "cell_type": "code",
   "execution_count": 18,
   "id": "27792356",
   "metadata": {},
   "outputs": [],
   "source": [
    "def datenum_to_datetime(datenum_arr):\n",
    "    \"\"\"\n",
    "    Convert Matlab datenum into Python datetime.\n",
    "    :param datenum: Date in datenum format\n",
    "    :return:        Datetime object corresponding to datenum.\n",
    "    \"\"\"\n",
    "    #If its a pandas array loop through and do each elments\n",
    "    dt_out = np.empty(len(datenum_arr), dtype=object)\n",
    "    for n in range(len(datenum_arr)):\n",
    "        datenum = datenum_arr[n]\n",
    "        days = datenum % 1\n",
    "        hours = days % 1 * 24\n",
    "        minutes = hours % 1 * 60\n",
    "        seconds = minutes % 1 * 60\n",
    "        dtime = datetime.datetime.fromordinal(int(datenum)) \\\n",
    "               + datetime.timedelta(days=int(days)) \\\n",
    "               + datetime.timedelta(hours=int(hours)) \\\n",
    "               + datetime.timedelta(minutes=int(minutes)) \\\n",
    "               + datetime.timedelta(seconds=int(seconds)) \\\n",
    "               - datetime.timedelta(days=366)\n",
    "        dt_out[n] = dtime\n",
    "    return dt_out"
   ]
  },
  {
   "cell_type": "code",
   "execution_count": 8,
   "id": "e4fe183f",
   "metadata": {},
   "outputs": [
    {
     "ename": "NameError",
     "evalue": "name 'time_test' is not defined",
     "output_type": "error",
     "traceback": [
      "\u001b[0;31m---------------------------------------------------------------------------\u001b[0m",
      "\u001b[0;31mNameError\u001b[0m                                 Traceback (most recent call last)",
      "Input \u001b[0;32mIn [8]\u001b[0m, in \u001b[0;36m<cell line: 1>\u001b[0;34m()\u001b[0m\n\u001b[0;32m----> 1\u001b[0m days \u001b[38;5;241m=\u001b[39m \u001b[43mtime_test\u001b[49m \u001b[38;5;241m%\u001b[39m \u001b[38;5;241m1\u001b[39m\n\u001b[1;32m      2\u001b[0m hours \u001b[38;5;241m=\u001b[39m days \u001b[38;5;241m%\u001b[39m \u001b[38;5;241m1\u001b[39m \u001b[38;5;241m*\u001b[39m \u001b[38;5;241m24\u001b[39m\n\u001b[1;32m      3\u001b[0m minutes \u001b[38;5;241m=\u001b[39m hours \u001b[38;5;241m%\u001b[39m \u001b[38;5;241m1\u001b[39m \u001b[38;5;241m*\u001b[39m \u001b[38;5;241m60\u001b[39m\n",
      "\u001b[0;31mNameError\u001b[0m: name 'time_test' is not defined"
     ]
    }
   ],
   "source": [
    "days = time_test % 1\n",
    "hours = days % 1 * 24\n",
    "minutes = hours % 1 * 60\n",
    "seconds = minutes % 1 * 60\n",
    "dtime = datetime.datetime.fromordinal(int(time_test)) + datetime.timedelta(days=time_test%1) - datetime.timedelta(days = 366) "
   ]
  },
  {
   "cell_type": "code",
   "execution_count": 9,
   "id": "213a1ed6",
   "metadata": {},
   "outputs": [
    {
     "ename": "NameError",
     "evalue": "name 'dtime' is not defined",
     "output_type": "error",
     "traceback": [
      "\u001b[0;31m---------------------------------------------------------------------------\u001b[0m",
      "\u001b[0;31mNameError\u001b[0m                                 Traceback (most recent call last)",
      "Input \u001b[0;32mIn [9]\u001b[0m, in \u001b[0;36m<cell line: 1>\u001b[0;34m()\u001b[0m\n\u001b[0;32m----> 1\u001b[0m \u001b[43mdtime\u001b[49m\n",
      "\u001b[0;31mNameError\u001b[0m: name 'dtime' is not defined"
     ]
    }
   ],
   "source": [
    "dtime"
   ]
  },
  {
   "cell_type": "code",
   "execution_count": 159,
   "id": "1596c5a3",
   "metadata": {},
   "outputs": [
    {
     "data": {
      "text/plain": [
       "736787.3083333333"
      ]
     },
     "execution_count": 159,
     "metadata": {},
     "output_type": "execute_result"
    }
   ],
   "source": [
    "time_test"
   ]
  },
  {
   "cell_type": "code",
   "execution_count": 175,
   "id": "214f89a7",
   "metadata": {},
   "outputs": [
    {
     "data": {
      "text/plain": [
       "468"
      ]
     },
     "execution_count": 175,
     "metadata": {},
     "output_type": "execute_result"
    }
   ],
   "source": [
    "len(df['time'])"
   ]
  },
  {
   "cell_type": "code",
   "execution_count": 225,
   "id": "c786f524",
   "metadata": {},
   "outputs": [
    {
     "data": {
      "text/plain": [
       "-118.78827667236328"
      ]
     },
     "execution_count": 225,
     "metadata": {},
     "output_type": "execute_result"
    }
   ],
   "source": [
    "df['lon'][apr4_inds].iloc[0]"
   ]
  },
  {
   "cell_type": "code",
   "execution_count": 10,
   "id": "64686b1f",
   "metadata": {},
   "outputs": [],
   "source": [
    "#Try loading the old swift dataset and then loading the newer swift dataset and see how different they look.\\\n",
    "\n",
    "\n",
    "swift_folder = \"/Users/jamesstadler/Documents/UW/TFO/Data/LCDRI/SWIFT/SWIFTprocessed/\"\n",
    "\n",
    "files = os.listdir(swift_folder)\n",
    "swift_loc_storer = {}\n",
    "swift_arr = np.array([[0,0,0,0]])\n",
    "\n",
    "for file in files:\n",
    "    lat_arr = np.array([])\n",
    "    lon_arr = np.array([])\n",
    "    swift_fname = swift_folder+file\n",
    "    name_tag = swift_fname.split('.')[0]\n",
    "    SWIFT = loadmat(swift_fname)\n",
    "\n",
    "    swift = np.transpose(SWIFT['SWIFT'])\n",
    "    if swift.size==0:\n",
    "        continue\n",
    "    else:\n",
    "        mdtype = swift.dtype\n",
    "        ndata = {n: swift[n] for n in mdtype.names}\n",
    "        columns = [n for (n, v) in ndata.items()]\n",
    "        df = pd.DataFrame(np.concatenate([ndata[c] for c in columns], axis=1, dtype='object'), columns=columns)\n",
    "        lat=np.array(df['lat'], dtype=float)\n",
    "        lon=np.array(df['lon'], dtype=float)\n",
    "        time = np.array(df['time'], dtype=float)\n",
    "        hs = np.array(df['sigwaveheight'], dtype=float)\n",
    "        lat_arr = np.expand_dims(lat, axis=1)\n",
    "        lon_arr = np.expand_dims(lon, axis=1)\n",
    "        time_arr = np.expand_dims(time, axis=1)\n",
    "        hs_arr = np.expand_dims(hs, axis=1)\n",
    "\n",
    "        swift_temp_arr = np.hstack((time_arr, lon_arr, lat_arr, hs_arr))\n",
    "        swift_arr = np.vstack((swift_arr, swift_temp_arr))\n",
    "    \n",
    "\n",
    "swift_arr = np.delete(swift_arr, 0, 0)"
   ]
  },
  {
   "cell_type": "code",
   "execution_count": 11,
   "id": "fb6a8552",
   "metadata": {},
   "outputs": [],
   "source": [
    "all_swift_file = \"/Users/jamesstadler/Documents/UW/TFO/Data/LCDRI/SWIFT/testswiftnew.mat\"\n",
    "\n",
    "SWIFT_new = loadmat(all_swift_file)"
   ]
  },
  {
   "cell_type": "code",
   "execution_count": 12,
   "id": "757fb888",
   "metadata": {},
   "outputs": [],
   "source": [
    "swift_arr2 = np.array([[0,0,0,0]])\n",
    "for i in range(len(SWIFT_new['swift'][0, 0])):\n",
    "    lat_arr = np.array([])\n",
    "    lon_arr = np.array([])\n",
    "    swift_temp = SWIFT_new['swift'][0, 0][i]\n",
    "    #time = swift_temp[0, 0][0][0]\n",
    "    #lon = swift_temp[0, 0][1][0]\n",
    "    #lat = swift_temp[0, 0][2][0]\n",
    "    #wavesigH = swift_temp[0, 0][9][0]\n",
    "    mdtype = swift_temp.dtype\n",
    "    ndata = {n: swift_temp[n] for n in mdtype.names}\n",
    "    columns = [n for (n, v) in ndata.items()]\n",
    "    df = pd.DataFrame(np.concatenate([ndata[c] for c in columns], axis=1, dtype='object'), columns=columns)\n",
    "    lat=np.array(df['lat'][0], dtype=float).T\n",
    "    lon=np.array(df['lon'][0], dtype=float).T\n",
    "    time = np.array(df['time'][0], dtype=float).T\n",
    "    hs = np.array(df['wavesigH'][0], dtype=float).T\n",
    "    #lat_arr = np.expand_dims(lat, axis=1)\n",
    "    #lon_arr = np.expand_dims(lon, axis=1)\n",
    "    #time_arr = np.expand_dims(time, axis=1)\n",
    "    #hs_arr = np.expand_dims(hs, axis=1)\n",
    "\n",
    "    swift_temp_arr = np.hstack((time, lon, lat, hs))\n",
    "    swift_arr2 = np.vstack((swift_arr2, swift_temp_arr))\n",
    "\n",
    "swift_arr2 = np.delete(swift_arr2, 0, 0)\n",
    "\n",
    "swift_arr2=swift_arr2[swift_arr2[:, 0].argsort()]\n",
    "swift_arr = swift_arr[swift_arr[:, 0].argsort()]"
   ]
  },
  {
   "cell_type": "code",
   "execution_count": 13,
   "id": "37a4a4f0",
   "metadata": {},
   "outputs": [
    {
     "data": {
      "text/plain": [
       "[<matplotlib.lines.Line2D at 0x7f7fb0a60bb0>]"
      ]
     },
     "execution_count": 13,
     "metadata": {},
     "output_type": "execute_result"
    },
    {
     "data": {
      "image/png": "[encoded data removed]",
      "text/plain": [
       "<Figure size 640x480 with 1 Axes>"
      ]
     },
     "metadata": {},
     "output_type": "display_data"
    }
   ],
   "source": [
    "plt.plot(swift_arr[:, 0])\n",
    "plt.plot(swift_arr2[:, 0])"
   ]
  },
  {
   "cell_type": "code",
   "execution_count": 14,
   "id": "9e843eed",
   "metadata": {},
   "outputs": [
    {
     "data": {
      "text/plain": [
       "<matplotlib.collections.PathCollection at 0x7f7f709bbcd0>"
      ]
     },
     "execution_count": 14,
     "metadata": {},
     "output_type": "execute_result"
    },
    {
     "data": {
      "image/png": "[encoded data removed]",
      "text/plain": [
       "<Figure size 640x480 with 1 Axes>"
      ]
     },
     "metadata": {},
     "output_type": "display_data"
    }
   ],
   "source": [
    "plt.scatter(swift_arr2[:, 0], swift_arr2[:, 3])\n",
    "plt.scatter(swift_arr[:, 0], swift_arr[:, 3])\n",
    "\n",
    "\n",
    "\n"
   ]
  },
  {
   "cell_type": "code",
   "execution_count": 15,
   "id": "29f2fdff",
   "metadata": {},
   "outputs": [],
   "source": [
    "fname = \"/Users/jamesstadler/Documents/UW/TFO/Data/LCDRI/229p1_d01.nc\"\n",
    "\n",
    "nc = netcdf.NetCDFFile(fname, 'r', mmap=False) #Not sure why I need to do mmap = False but it gets rid of a warning\n",
    "times = nc.variables['waveTime'][:]\n",
    "ts = np.array([datetime.datetime.fromtimestamp(t) for t in times])\n",
    "Hs_cdip = nc.variables['waveHs'][:]\n",
    "energy_density = nc.variables['waveEnergyDensity'][:]\n",
    "wave_freq = nc.variables['waveFrequency'][:]\n",
    "cdip_lat = np.nanmean(nc.variables['gpsLatitude'][:])\n",
    "cdip_lon = np.nanmean(nc.variables['gpsLongitude'][:])\n",
    "\n",
    "#dtimes = datetime(time, 'convertfrom', 'posixtime');\n",
    "nc.close()"
   ]
  },
  {
   "cell_type": "code",
   "execution_count": 32,
   "id": "eb44e412",
   "metadata": {},
   "outputs": [],
   "source": [
    "swift_t_out=datenum_to_datetime(swift_arr2[:, 0])\n",
    "cdip_swift_inds = np.array([], dtype=int)\n",
    "for ind in range(len(swift_arr2[:, 0])):\n",
    "    cdip_ind = np.where(np.abs(swift_t_out[ind]-ts)<d==np.min(np.abs(swift_t_out[ind]-ts)))[0][0]\n",
    "    cdip_swift_inds = np.append(cdip_swift_inds, cdip_ind)\n",
    "    \n",
    "#Now bin everything within 15min on either side of each of these cdip measurements:\n",
    "# First get all the unique cdip times from the list which might have duplicates."
   ]
  },
  {
   "cell_type": "code",
   "execution_count": 33,
   "id": "5f025dcd",
   "metadata": {},
   "outputs": [
    {
     "data": {
      "text/plain": [
       "<matplotlib.collections.PathCollection at 0x7f7f70a16eb0>"
      ]
     },
     "execution_count": 33,
     "metadata": {},
     "output_type": "execute_result"
    },
    {
     "data": {
      "image/png": "[encoded data removed]",
      "text/plain": [
       "<Figure size 640x480 with 1 Axes>"
      ]
     },
     "metadata": {},
     "output_type": "display_data"
    }
   ],
   "source": [
    "plt.scatter(Hs_cdip[cdip_swift_inds],swift_arr2[:, -1] )"
   ]
  },
  {
   "cell_type": "code",
   "execution_count": 31,
   "id": "200560a4",
   "metadata": {},
   "outputs": [
    {
     "data": {
      "text/plain": [
       "array([105., 105., 105., ..., 885., 885., 886.])"
      ]
     },
     "execution_count": 31,
     "metadata": {},
     "output_type": "execute_result"
    }
   ],
   "source": [
    "cdip_swift_inds"
   ]
  },
  {
   "cell_type": "code",
   "execution_count": 19,
   "id": "88576828",
   "metadata": {},
   "outputs": [],
   "source": [
    "swift_t_out=datenum_to_datetime([736775.958333333])"
   ]
  },
  {
   "cell_type": "code",
   "execution_count": 34,
   "id": "9d31ab1a",
   "metadata": {},
   "outputs": [
    {
     "data": {
      "text/plain": [
       "886"
      ]
     },
     "execution_count": 34,
     "metadata": {},
     "output_type": "execute_result"
    }
   ],
   "source": [
    "cdip_ind"
   ]
  },
  {
   "cell_type": "code",
   "execution_count": 42,
   "id": "ab8c35ca",
   "metadata": {},
   "outputs": [
    {
     "data": {
      "text/plain": [
       "True"
      ]
     },
     "execution_count": 42,
     "metadata": {},
     "output_type": "execute_result"
    }
   ],
   "source": [
    "np.min(np.abs(swift_t_out[ind]-ts))"
   ]
  },
  {
   "cell_type": "code",
   "execution_count": 41,
   "id": "0da12e6f",
   "metadata": {},
   "outputs": [
    {
     "data": {
      "text/plain": [
       "datetime.timedelta(seconds=3600)"
      ]
     },
     "execution_count": 41,
     "metadata": {},
     "output_type": "execute_result"
    }
   ],
   "source": [
    "datetime.timedelta(hours=1)"
   ]
  },
  {
   "cell_type": "code",
   "execution_count": 43,
   "id": "700caef8",
   "metadata": {},
   "outputs": [
    {
     "data": {
      "text/plain": [
       "0.008333333302289248"
      ]
     },
     "execution_count": 43,
     "metadata": {},
     "output_type": "execute_result"
    }
   ],
   "source": [
    "swift_arr2[2 ,0]-swift_arr2[1, 0]"
   ]
  },
  {
   "cell_type": "code",
   "execution_count": 44,
   "id": "70fc3702",
   "metadata": {},
   "outputs": [
    {
     "data": {
      "text/plain": [
       "datetime.timedelta(seconds=719)"
      ]
     },
     "execution_count": 44,
     "metadata": {},
     "output_type": "execute_result"
    }
   ],
   "source": [
    "swift_t_out[2]-swift_t_out[1]"
   ]
  },
  {
   "cell_type": "code",
   "execution_count": 46,
   "id": "92a5c1f2",
   "metadata": {},
   "outputs": [
    {
     "data": {
      "text/plain": [
       "2568"
      ]
     },
     "execution_count": 46,
     "metadata": {},
     "output_type": "execute_result"
    }
   ],
   "source": [
    "len(ts[cdip_swift_inds])"
   ]
  },
  {
   "cell_type": "code",
   "execution_count": 57,
   "id": "d3a1b15e",
   "metadata": {},
   "outputs": [],
   "source": [
    "temp_cdip = cdip_swift_inds\n",
    "new_temp = [*set(temp_cdip)]"
   ]
  },
  {
   "cell_type": "code",
   "execution_count": 58,
   "id": "9d38202d",
   "metadata": {},
   "outputs": [
    {
     "data": {
      "text/plain": [
       "468"
      ]
     },
     "execution_count": 58,
     "metadata": {},
     "output_type": "execute_result"
    }
   ],
   "source": [
    "len(new_temp)"
   ]
  },
  {
   "cell_type": "code",
   "execution_count": 65,
   "id": "6a2ef0ec",
   "metadata": {},
   "outputs": [
    {
     "data": {
      "text/plain": [
       "<matplotlib.collections.PathCollection at 0x7f7f70a4d5b0>"
      ]
     },
     "execution_count": 65,
     "metadata": {},
     "output_type": "execute_result"
    },
    {
     "data": {
      "image/png": "[encoded data removed]",
      "text/plain": [
       "<Figure size 640x480 with 1 Axes>"
      ]
     },
     "metadata": {},
     "output_type": "display_data"
    }
   ],
   "source": [
    "plt.scatter(swift_t_out, swift_arr2[:, 3], s=1)\n",
    "plt.scatter(ts, Hs_cdip, s=1)\n",
    "plt.scatter(ts[new_temp], Hs_cdip[new_temp], s=1)\n",
    "\n"
   ]
  },
  {
   "cell_type": "code",
   "execution_count": 56,
   "id": "e5d784e1",
   "metadata": {},
   "outputs": [
    {
     "data": {
      "text/plain": [
       "[datetime.datetime(2017, 3, 24, 10, 3, 45),\n",
       " datetime.datetime(2017, 4, 3, 12, 33, 45),\n",
       " datetime.datetime(2017, 3, 23, 0, 33, 45),\n",
       " datetime.datetime(2017, 4, 4, 1, 33, 45),\n",
       " datetime.datetime(2017, 3, 26, 16, 3, 45),\n",
       " datetime.datetime(2017, 4, 5, 12, 3, 45),\n",
       " datetime.datetime(2017, 3, 21, 19, 3, 45),\n",
       " datetime.datetime(2017, 4, 2, 12, 33, 45),\n",
       " datetime.datetime(2017, 4, 2, 22, 3, 45),\n",
       " datetime.datetime(2017, 3, 20, 17, 3, 45),\n",
       " datetime.datetime(2017, 3, 22, 6, 33, 45),\n",
       " datetime.datetime(2017, 4, 4, 7, 3, 45),\n",
       " datetime.datetime(2017, 3, 25, 19, 33, 45),\n",
       " datetime.datetime(2017, 3, 29, 18, 33, 45),\n",
       " datetime.datetime(2017, 3, 30, 5, 3, 45),\n",
       " datetime.datetime(2017, 3, 30, 11, 33, 45),\n",
       " datetime.datetime(2017, 3, 22, 5, 3, 45),\n",
       " datetime.datetime(2017, 3, 20, 16, 3, 45),\n",
       " datetime.datetime(2017, 3, 28, 21, 3, 45),\n",
       " datetime.datetime(2017, 3, 22, 14, 3, 45),\n",
       " datetime.datetime(2017, 4, 4, 19, 3, 45),\n",
       " datetime.datetime(2017, 3, 26, 23, 3, 45),\n",
       " datetime.datetime(2017, 3, 20, 22, 3, 45),\n",
       " datetime.datetime(2017, 3, 22, 23, 33, 45),\n",
       " datetime.datetime(2017, 3, 20, 23, 33, 45),\n",
       " datetime.datetime(2017, 3, 24, 8, 3, 45),\n",
       " datetime.datetime(2017, 4, 2, 1, 33, 45),\n",
       " datetime.datetime(2017, 4, 2, 8, 3, 45),\n",
       " datetime.datetime(2017, 4, 3, 1, 33, 45),\n",
       " datetime.datetime(2017, 3, 23, 1, 3, 45),\n",
       " datetime.datetime(2017, 3, 25, 23, 33, 45),\n",
       " datetime.datetime(2017, 3, 22, 9, 3, 45),\n",
       " datetime.datetime(2017, 3, 23, 1, 33, 45),\n",
       " datetime.datetime(2017, 3, 21, 14, 33, 45),\n",
       " datetime.datetime(2017, 3, 23, 23, 33, 45),\n",
       " datetime.datetime(2017, 4, 2, 13, 33, 45),\n",
       " datetime.datetime(2017, 4, 3, 16, 33, 45),\n",
       " datetime.datetime(2017, 3, 20, 20, 3, 45),\n",
       " datetime.datetime(2017, 3, 30, 16, 3, 45),\n",
       " datetime.datetime(2017, 4, 2, 12, 3, 45),\n",
       " datetime.datetime(2017, 3, 23, 7, 33, 45),\n",
       " datetime.datetime(2017, 4, 2, 4, 3, 45),\n",
       " datetime.datetime(2017, 3, 24, 19, 3, 45),\n",
       " datetime.datetime(2017, 3, 29, 22, 33, 45),\n",
       " datetime.datetime(2017, 4, 2, 20, 3, 45),\n",
       " datetime.datetime(2017, 3, 23, 13, 3, 45),\n",
       " datetime.datetime(2017, 3, 23, 22, 33, 45),\n",
       " datetime.datetime(2017, 3, 30, 12, 33, 45),\n",
       " datetime.datetime(2017, 4, 3, 3, 33, 45),\n",
       " datetime.datetime(2017, 3, 21, 1, 3, 45),\n",
       " datetime.datetime(2017, 3, 23, 17, 3, 45),\n",
       " datetime.datetime(2017, 3, 23, 10, 3, 45),\n",
       " datetime.datetime(2017, 4, 5, 11, 3, 45),\n",
       " datetime.datetime(2017, 3, 21, 16, 3, 45),\n",
       " datetime.datetime(2017, 3, 21, 6, 33, 45),\n",
       " datetime.datetime(2017, 3, 26, 20, 33, 45),\n",
       " datetime.datetime(2017, 3, 21, 9, 33, 45),\n",
       " datetime.datetime(2017, 4, 5, 18, 33, 45),\n",
       " datetime.datetime(2017, 3, 30, 8, 3, 45),\n",
       " datetime.datetime(2017, 4, 1, 23, 33, 45),\n",
       " datetime.datetime(2017, 4, 4, 21, 33, 45),\n",
       " datetime.datetime(2017, 3, 24, 14, 33, 45),\n",
       " datetime.datetime(2017, 3, 23, 20, 33, 45),\n",
       " datetime.datetime(2017, 4, 2, 10, 33, 45),\n",
       " datetime.datetime(2017, 3, 30, 8, 33, 45),\n",
       " datetime.datetime(2017, 4, 5, 7, 33, 45),\n",
       " datetime.datetime(2017, 3, 26, 21, 3, 45),\n",
       " datetime.datetime(2017, 3, 23, 5, 3, 45),\n",
       " datetime.datetime(2017, 3, 23, 11, 33, 45),\n",
       " datetime.datetime(2017, 3, 30, 14, 33, 45),\n",
       " datetime.datetime(2017, 4, 3, 6, 3, 45),\n",
       " datetime.datetime(2017, 3, 30, 11, 3, 45),\n",
       " datetime.datetime(2017, 4, 5, 19, 3, 45),\n",
       " datetime.datetime(2017, 3, 23, 2, 33, 45),\n",
       " datetime.datetime(2017, 4, 2, 15, 3, 45),\n",
       " datetime.datetime(2017, 3, 30, 9, 3, 45),\n",
       " datetime.datetime(2017, 3, 30, 17, 3, 45),\n",
       " datetime.datetime(2017, 4, 4, 15, 33, 45),\n",
       " datetime.datetime(2017, 4, 2, 14, 3, 45),\n",
       " datetime.datetime(2017, 3, 21, 3, 33, 45),\n",
       " datetime.datetime(2017, 4, 5, 1, 33, 45),\n",
       " datetime.datetime(2017, 3, 30, 14, 3, 45),\n",
       " datetime.datetime(2017, 3, 24, 17, 3, 45),\n",
       " datetime.datetime(2017, 3, 25, 22, 33, 45),\n",
       " datetime.datetime(2017, 3, 22, 13, 33, 45),\n",
       " datetime.datetime(2017, 3, 21, 15, 3, 45),\n",
       " datetime.datetime(2017, 4, 4, 18, 33, 45),\n",
       " datetime.datetime(2017, 4, 4, 6, 3, 45),\n",
       " datetime.datetime(2017, 3, 30, 2, 3, 45),\n",
       " datetime.datetime(2017, 3, 30, 15, 33, 45),\n",
       " datetime.datetime(2017, 3, 24, 19, 33, 45),\n",
       " datetime.datetime(2017, 3, 23, 2, 3, 45),\n",
       " datetime.datetime(2017, 3, 30, 2, 33, 45),\n",
       " datetime.datetime(2017, 4, 5, 9, 33, 45),\n",
       " datetime.datetime(2017, 4, 3, 16, 3, 45),\n",
       " datetime.datetime(2017, 4, 1, 23, 3, 45),\n",
       " datetime.datetime(2017, 4, 3, 23, 33, 45),\n",
       " datetime.datetime(2017, 4, 3, 8, 3, 45),\n",
       " datetime.datetime(2017, 3, 24, 11, 3, 45),\n",
       " datetime.datetime(2017, 4, 5, 0, 3, 45),\n",
       " datetime.datetime(2017, 4, 1, 22, 3, 45),\n",
       " datetime.datetime(2017, 3, 23, 12, 3, 45),\n",
       " datetime.datetime(2017, 4, 4, 17, 3, 45),\n",
       " datetime.datetime(2017, 3, 26, 15, 33, 45),\n",
       " datetime.datetime(2017, 3, 21, 17, 3, 45),\n",
       " datetime.datetime(2017, 3, 22, 7, 3, 45),\n",
       " datetime.datetime(2017, 4, 4, 18, 3, 45),\n",
       " datetime.datetime(2017, 3, 23, 14, 33, 45),\n",
       " datetime.datetime(2017, 3, 24, 5, 3, 45),\n",
       " datetime.datetime(2017, 3, 22, 12, 33, 45),\n",
       " datetime.datetime(2017, 4, 3, 11, 33, 45),\n",
       " datetime.datetime(2017, 3, 20, 21, 3, 45),\n",
       " datetime.datetime(2017, 4, 3, 12, 3, 45),\n",
       " datetime.datetime(2017, 4, 2, 22, 33, 45),\n",
       " datetime.datetime(2017, 3, 23, 3, 3, 45),\n",
       " datetime.datetime(2017, 3, 28, 19, 3, 45),\n",
       " datetime.datetime(2017, 4, 4, 20, 33, 45),\n",
       " datetime.datetime(2017, 3, 24, 12, 3, 45),\n",
       " datetime.datetime(2017, 4, 4, 10, 33, 45),\n",
       " datetime.datetime(2017, 3, 24, 3, 3, 45),\n",
       " datetime.datetime(2017, 4, 2, 23, 33, 45),\n",
       " datetime.datetime(2017, 3, 25, 18, 33, 45),\n",
       " datetime.datetime(2017, 3, 22, 12, 3, 45),\n",
       " datetime.datetime(2017, 3, 23, 8, 3, 45),\n",
       " datetime.datetime(2017, 4, 3, 19, 33, 45),\n",
       " datetime.datetime(2017, 4, 4, 9, 3, 45),\n",
       " datetime.datetime(2017, 3, 27, 0, 33, 45),\n",
       " datetime.datetime(2017, 4, 2, 10, 3, 45),\n",
       " datetime.datetime(2017, 3, 22, 8, 3, 45),\n",
       " datetime.datetime(2017, 3, 26, 17, 3, 45),\n",
       " datetime.datetime(2017, 3, 22, 5, 33, 45),\n",
       " datetime.datetime(2017, 3, 24, 8, 33, 45),\n",
       " datetime.datetime(2017, 4, 4, 21, 3, 45),\n",
       " datetime.datetime(2017, 4, 5, 3, 3, 45),\n",
       " datetime.datetime(2017, 3, 26, 0, 33, 45),\n",
       " datetime.datetime(2017, 4, 4, 13, 3, 45),\n",
       " datetime.datetime(2017, 3, 28, 20, 3, 45),\n",
       " datetime.datetime(2017, 3, 22, 2, 3, 45),\n",
       " datetime.datetime(2017, 4, 3, 22, 33, 45),\n",
       " datetime.datetime(2017, 3, 25, 23, 3, 45),\n",
       " datetime.datetime(2017, 3, 30, 4, 3, 45),\n",
       " datetime.datetime(2017, 4, 5, 4, 3, 45),\n",
       " datetime.datetime(2017, 3, 22, 4, 33, 45),\n",
       " datetime.datetime(2017, 3, 23, 4, 33, 45),\n",
       " datetime.datetime(2017, 3, 20, 19, 3, 45),\n",
       " datetime.datetime(2017, 3, 30, 6, 33, 45),\n",
       " datetime.datetime(2017, 3, 21, 19, 33, 45),\n",
       " datetime.datetime(2017, 3, 22, 15, 33, 45),\n",
       " datetime.datetime(2017, 3, 21, 8, 3, 45),\n",
       " datetime.datetime(2017, 4, 4, 22, 33, 45),\n",
       " datetime.datetime(2017, 4, 3, 5, 33, 45),\n",
       " datetime.datetime(2017, 3, 30, 10, 3, 45),\n",
       " datetime.datetime(2017, 4, 2, 0, 3, 45),\n",
       " datetime.datetime(2017, 3, 25, 20, 3, 45),\n",
       " datetime.datetime(2017, 3, 26, 22, 33, 45),\n",
       " datetime.datetime(2017, 4, 5, 14, 3, 45),\n",
       " datetime.datetime(2017, 3, 24, 0, 3, 45),\n",
       " datetime.datetime(2017, 4, 2, 0, 33, 45),\n",
       " datetime.datetime(2017, 4, 2, 2, 3, 45),\n",
       " datetime.datetime(2017, 3, 21, 13, 3, 45),\n",
       " datetime.datetime(2017, 3, 21, 13, 33, 45),\n",
       " datetime.datetime(2017, 3, 24, 0, 33, 45),\n",
       " datetime.datetime(2017, 3, 23, 15, 33, 45),\n",
       " datetime.datetime(2017, 4, 2, 2, 33, 45),\n",
       " datetime.datetime(2017, 3, 24, 16, 33, 45),\n",
       " datetime.datetime(2017, 3, 24, 11, 33, 45),\n",
       " datetime.datetime(2017, 3, 26, 19, 3, 45),\n",
       " datetime.datetime(2017, 3, 23, 8, 33, 45),\n",
       " datetime.datetime(2017, 3, 24, 5, 33, 45),\n",
       " datetime.datetime(2017, 3, 21, 6, 3, 45),\n",
       " datetime.datetime(2017, 4, 4, 3, 33, 45),\n",
       " datetime.datetime(2017, 3, 24, 16, 3, 45),\n",
       " datetime.datetime(2017, 4, 1, 22, 33, 45),\n",
       " datetime.datetime(2017, 3, 21, 3, 3, 45),\n",
       " datetime.datetime(2017, 3, 28, 20, 33, 45),\n",
       " datetime.datetime(2017, 3, 25, 21, 33, 45),\n",
       " datetime.datetime(2017, 3, 22, 4, 3, 45),\n",
       " datetime.datetime(2017, 3, 21, 2, 33, 45),\n",
       " datetime.datetime(2017, 3, 23, 12, 33, 45),\n",
       " datetime.datetime(2017, 3, 24, 4, 3, 45),\n",
       " datetime.datetime(2017, 3, 30, 0, 33, 45),\n",
       " datetime.datetime(2017, 3, 30, 15, 3, 45),\n",
       " datetime.datetime(2017, 4, 5, 4, 33, 45),\n",
       " datetime.datetime(2017, 3, 25, 21, 3, 45),\n",
       " datetime.datetime(2017, 3, 22, 13, 3, 45),\n",
       " datetime.datetime(2017, 3, 22, 11, 3, 45),\n",
       " datetime.datetime(2017, 3, 21, 5, 3, 45),\n",
       " datetime.datetime(2017, 3, 21, 4, 33, 45),\n",
       " datetime.datetime(2017, 4, 3, 9, 33, 45),\n",
       " datetime.datetime(2017, 4, 3, 10, 33, 45),\n",
       " datetime.datetime(2017, 4, 5, 5, 33, 45),\n",
       " datetime.datetime(2017, 4, 2, 5, 33, 45),\n",
       " datetime.datetime(2017, 4, 4, 15, 3, 45),\n",
       " datetime.datetime(2017, 3, 26, 19, 33, 45),\n",
       " datetime.datetime(2017, 4, 2, 17, 3, 45),\n",
       " datetime.datetime(2017, 4, 3, 5, 3, 45),\n",
       " datetime.datetime(2017, 3, 29, 0, 33, 45),\n",
       " datetime.datetime(2017, 4, 4, 3, 3, 45),\n",
       " datetime.datetime(2017, 4, 5, 20, 33, 45),\n",
       " datetime.datetime(2017, 4, 4, 12, 33, 45),\n",
       " datetime.datetime(2017, 3, 23, 14, 3, 45),\n",
       " datetime.datetime(2017, 4, 5, 13, 33, 45),\n",
       " datetime.datetime(2017, 4, 5, 7, 3, 45),\n",
       " datetime.datetime(2017, 3, 23, 19, 3, 45),\n",
       " datetime.datetime(2017, 3, 25, 19, 3, 45),\n",
       " datetime.datetime(2017, 4, 3, 19, 3, 45),\n",
       " datetime.datetime(2017, 3, 24, 1, 3, 45),\n",
       " datetime.datetime(2017, 3, 29, 22, 3, 45),\n",
       " datetime.datetime(2017, 3, 28, 18, 33, 45),\n",
       " datetime.datetime(2017, 4, 2, 21, 33, 45),\n",
       " datetime.datetime(2017, 4, 4, 13, 33, 45),\n",
       " datetime.datetime(2017, 3, 24, 7, 3, 45),\n",
       " datetime.datetime(2017, 4, 4, 23, 33, 45),\n",
       " datetime.datetime(2017, 3, 21, 12, 3, 45),\n",
       " datetime.datetime(2017, 3, 22, 3, 33, 45),\n",
       " datetime.datetime(2017, 3, 21, 11, 33, 45),\n",
       " datetime.datetime(2017, 4, 4, 10, 3, 45),\n",
       " datetime.datetime(2017, 3, 23, 19, 33, 45),\n",
       " datetime.datetime(2017, 3, 24, 17, 33, 45),\n",
       " datetime.datetime(2017, 3, 20, 21, 33, 45),\n",
       " datetime.datetime(2017, 4, 4, 6, 33, 45),\n",
       " datetime.datetime(2017, 3, 29, 17, 33, 45),\n",
       " datetime.datetime(2017, 3, 22, 3, 3, 45),\n",
       " datetime.datetime(2017, 4, 5, 18, 3, 45),\n",
       " datetime.datetime(2017, 3, 23, 22, 3, 45),\n",
       " datetime.datetime(2017, 3, 21, 23, 33, 45),\n",
       " datetime.datetime(2017, 4, 2, 3, 3, 45),\n",
       " datetime.datetime(2017, 4, 5, 6, 33, 45),\n",
       " datetime.datetime(2017, 3, 24, 7, 33, 45),\n",
       " datetime.datetime(2017, 4, 2, 16, 33, 45),\n",
       " datetime.datetime(2017, 4, 2, 19, 33, 45),\n",
       " datetime.datetime(2017, 4, 4, 11, 33, 45),\n",
       " datetime.datetime(2017, 4, 4, 16, 33, 45),\n",
       " datetime.datetime(2017, 3, 24, 10, 33, 45),\n",
       " datetime.datetime(2017, 3, 21, 7, 3, 45),\n",
       " datetime.datetime(2017, 4, 3, 20, 33, 45),\n",
       " datetime.datetime(2017, 4, 2, 4, 33, 45),\n",
       " datetime.datetime(2017, 4, 5, 20, 3, 45),\n",
       " datetime.datetime(2017, 4, 3, 18, 3, 45),\n",
       " datetime.datetime(2017, 3, 22, 11, 33, 45),\n",
       " datetime.datetime(2017, 3, 23, 10, 33, 45),\n",
       " datetime.datetime(2017, 4, 4, 14, 3, 45),\n",
       " datetime.datetime(2017, 3, 21, 0, 3, 45),\n",
       " datetime.datetime(2017, 4, 4, 20, 3, 45),\n",
       " datetime.datetime(2017, 3, 23, 16, 33, 45),\n",
       " datetime.datetime(2017, 3, 23, 13, 33, 45),\n",
       " datetime.datetime(2017, 3, 22, 17, 3, 45),\n",
       " datetime.datetime(2017, 4, 5, 1, 3, 45),\n",
       " datetime.datetime(2017, 3, 24, 6, 33, 45),\n",
       " datetime.datetime(2017, 4, 4, 4, 3, 45),\n",
       " datetime.datetime(2017, 3, 20, 17, 33, 45),\n",
       " datetime.datetime(2017, 3, 24, 6, 3, 45),\n",
       " datetime.datetime(2017, 4, 2, 21, 3, 45),\n",
       " datetime.datetime(2017, 3, 20, 19, 33, 45),\n",
       " datetime.datetime(2017, 4, 2, 8, 33, 45),\n",
       " datetime.datetime(2017, 4, 3, 4, 33, 45),\n",
       " datetime.datetime(2017, 4, 3, 15, 33, 45),\n",
       " datetime.datetime(2017, 4, 3, 21, 3, 45),\n",
       " datetime.datetime(2017, 3, 21, 18, 3, 45),\n",
       " datetime.datetime(2017, 3, 29, 21, 3, 45),\n",
       " datetime.datetime(2017, 3, 30, 1, 3, 45),\n",
       " datetime.datetime(2017, 3, 27, 0, 3, 45),\n",
       " datetime.datetime(2017, 4, 5, 0, 33, 45),\n",
       " datetime.datetime(2017, 3, 23, 18, 3, 45),\n",
       " datetime.datetime(2017, 4, 4, 0, 3, 45),\n",
       " datetime.datetime(2017, 3, 23, 21, 33, 45),\n",
       " datetime.datetime(2017, 4, 5, 3, 33, 45),\n",
       " datetime.datetime(2017, 4, 5, 12, 33, 45),\n",
       " datetime.datetime(2017, 3, 23, 0, 3, 45),\n",
       " datetime.datetime(2017, 4, 5, 2, 3, 45),\n",
       " datetime.datetime(2017, 3, 22, 16, 3, 45),\n",
       " datetime.datetime(2017, 3, 23, 17, 33, 45),\n",
       " datetime.datetime(2017, 3, 23, 15, 3, 45),\n",
       " datetime.datetime(2017, 4, 2, 9, 3, 45),\n",
       " datetime.datetime(2017, 4, 4, 8, 33, 45),\n",
       " datetime.datetime(2017, 3, 24, 12, 33, 45),\n",
       " datetime.datetime(2017, 3, 22, 14, 33, 45),\n",
       " datetime.datetime(2017, 3, 21, 16, 33, 45),\n",
       " datetime.datetime(2017, 4, 3, 11, 3, 45),\n",
       " datetime.datetime(2017, 3, 24, 14, 3, 45),\n",
       " datetime.datetime(2017, 4, 3, 4, 3, 45),\n",
       " datetime.datetime(2017, 3, 30, 12, 3, 45),\n",
       " datetime.datetime(2017, 4, 4, 4, 33, 45),\n",
       " datetime.datetime(2017, 3, 23, 7, 3, 45),\n",
       " datetime.datetime(2017, 3, 30, 4, 33, 45),\n",
       " datetime.datetime(2017, 3, 21, 8, 33, 45),\n",
       " datetime.datetime(2017, 4, 2, 11, 3, 45),\n",
       " datetime.datetime(2017, 4, 2, 18, 3, 45),\n",
       " datetime.datetime(2017, 3, 23, 3, 33, 45),\n",
       " datetime.datetime(2017, 3, 24, 15, 3, 45),\n",
       " datetime.datetime(2017, 3, 30, 3, 3, 45),\n",
       " datetime.datetime(2017, 4, 2, 17, 33, 45),\n",
       " datetime.datetime(2017, 3, 21, 7, 33, 45),\n",
       " datetime.datetime(2017, 3, 24, 20, 33, 45),\n",
       " datetime.datetime(2017, 4, 4, 14, 33, 45),\n",
       " datetime.datetime(2017, 3, 25, 20, 33, 45),\n",
       " datetime.datetime(2017, 4, 2, 11, 33, 45),\n",
       " datetime.datetime(2017, 4, 4, 0, 33, 45),\n",
       " datetime.datetime(2017, 3, 28, 23, 33, 45),\n",
       " datetime.datetime(2017, 4, 3, 1, 3, 45),\n",
       " datetime.datetime(2017, 4, 4, 16, 3, 45),\n",
       " datetime.datetime(2017, 4, 3, 9, 3, 45),\n",
       " datetime.datetime(2017, 4, 5, 15, 3, 45),\n",
       " datetime.datetime(2017, 3, 26, 18, 3, 45),\n",
       " datetime.datetime(2017, 3, 20, 20, 33, 45),\n",
       " datetime.datetime(2017, 3, 26, 20, 3, 45),\n",
       " datetime.datetime(2017, 4, 2, 7, 3, 45),\n",
       " datetime.datetime(2017, 4, 4, 7, 33, 45),\n",
       " datetime.datetime(2017, 4, 2, 13, 3, 45),\n",
       " datetime.datetime(2017, 3, 22, 0, 3, 45),\n",
       " datetime.datetime(2017, 3, 23, 9, 33, 45),\n",
       " datetime.datetime(2017, 4, 3, 17, 33, 45),\n",
       " datetime.datetime(2017, 4, 4, 22, 3, 45),\n",
       " datetime.datetime(2017, 3, 26, 21, 33, 45),\n",
       " datetime.datetime(2017, 4, 3, 22, 3, 45),\n",
       " datetime.datetime(2017, 3, 20, 16, 33, 45),\n",
       " datetime.datetime(2017, 3, 26, 0, 3, 45),\n",
       " datetime.datetime(2017, 3, 24, 20, 3, 45),\n",
       " datetime.datetime(2017, 3, 23, 18, 33, 45),\n",
       " datetime.datetime(2017, 3, 26, 18, 33, 45),\n",
       " datetime.datetime(2017, 4, 5, 10, 3, 45),\n",
       " datetime.datetime(2017, 4, 4, 19, 33, 45),\n",
       " datetime.datetime(2017, 4, 4, 8, 3, 45),\n",
       " datetime.datetime(2017, 4, 3, 20, 3, 45),\n",
       " datetime.datetime(2017, 3, 22, 10, 3, 45),\n",
       " datetime.datetime(2017, 3, 29, 18, 3, 45),\n",
       " datetime.datetime(2017, 4, 5, 2, 33, 45),\n",
       " datetime.datetime(2017, 3, 29, 1, 3, 45),\n",
       " datetime.datetime(2017, 4, 3, 2, 33, 45),\n",
       " datetime.datetime(2017, 4, 5, 21, 33, 45),\n",
       " datetime.datetime(2017, 4, 2, 3, 33, 45),\n",
       " datetime.datetime(2017, 3, 22, 1, 3, 45),\n",
       " datetime.datetime(2017, 3, 22, 9, 33, 45),\n",
       " datetime.datetime(2017, 4, 5, 19, 33, 45),\n",
       " datetime.datetime(2017, 3, 30, 9, 33, 45),\n",
       " datetime.datetime(2017, 4, 5, 17, 33, 45),\n",
       " datetime.datetime(2017, 4, 4, 17, 33, 45),\n",
       " datetime.datetime(2017, 3, 24, 13, 3, 45),\n",
       " datetime.datetime(2017, 3, 29, 0, 3, 45),\n",
       " datetime.datetime(2017, 4, 2, 6, 33, 45),\n",
       " datetime.datetime(2017, 3, 22, 7, 33, 45),\n",
       " datetime.datetime(2017, 3, 22, 10, 33, 45),\n",
       " datetime.datetime(2017, 3, 24, 18, 3, 45),\n",
       " datetime.datetime(2017, 4, 5, 13, 3, 45),\n",
       " datetime.datetime(2017, 3, 22, 1, 33, 45),\n",
       " datetime.datetime(2017, 4, 4, 5, 3, 45),\n",
       " datetime.datetime(2017, 4, 3, 23, 3, 45),\n",
       " datetime.datetime(2017, 4, 2, 14, 33, 45),\n",
       " datetime.datetime(2017, 3, 24, 15, 33, 45),\n",
       " datetime.datetime(2017, 3, 23, 16, 3, 45),\n",
       " datetime.datetime(2017, 3, 21, 17, 33, 45),\n",
       " datetime.datetime(2017, 4, 3, 13, 3, 45),\n",
       " datetime.datetime(2017, 4, 5, 11, 33, 45),\n",
       " datetime.datetime(2017, 4, 3, 10, 3, 45),\n",
       " datetime.datetime(2017, 3, 21, 9, 3, 45),\n",
       " datetime.datetime(2017, 4, 3, 8, 33, 45),\n",
       " datetime.datetime(2017, 4, 3, 13, 33, 45),\n",
       " datetime.datetime(2017, 4, 2, 23, 3, 45),\n",
       " datetime.datetime(2017, 4, 4, 1, 3, 45),\n",
       " datetime.datetime(2017, 3, 29, 20, 33, 45),\n",
       " datetime.datetime(2017, 3, 30, 13, 3, 45),\n",
       " datetime.datetime(2017, 3, 24, 9, 33, 45),\n",
       " datetime.datetime(2017, 3, 29, 20, 3, 45),\n",
       " datetime.datetime(2017, 3, 23, 6, 33, 45),\n",
       " datetime.datetime(2017, 3, 24, 1, 33, 45),\n",
       " datetime.datetime(2017, 3, 21, 12, 33, 45),\n",
       " datetime.datetime(2017, 4, 5, 22, 3, 45),\n",
       " datetime.datetime(2017, 4, 3, 15, 3, 45),\n",
       " datetime.datetime(2017, 3, 22, 6, 3, 45),\n",
       " datetime.datetime(2017, 3, 23, 21, 3, 45),\n",
       " datetime.datetime(2017, 4, 5, 10, 33, 45),\n",
       " datetime.datetime(2017, 3, 21, 10, 33, 45),\n",
       " datetime.datetime(2017, 3, 28, 22, 33, 45),\n",
       " datetime.datetime(2017, 4, 3, 7, 33, 45),\n",
       " datetime.datetime(2017, 3, 26, 16, 33, 45),\n",
       " datetime.datetime(2017, 4, 5, 14, 33, 45),\n",
       " datetime.datetime(2017, 4, 5, 9, 3, 45),\n",
       " datetime.datetime(2017, 3, 24, 2, 3, 45),\n",
       " datetime.datetime(2017, 3, 21, 18, 33, 45),\n",
       " datetime.datetime(2017, 3, 21, 0, 33, 45),\n",
       " datetime.datetime(2017, 3, 21, 15, 33, 45),\n",
       " datetime.datetime(2017, 3, 30, 6, 3, 45),\n",
       " datetime.datetime(2017, 4, 3, 3, 3, 45),\n",
       " datetime.datetime(2017, 3, 20, 22, 33, 45),\n",
       " datetime.datetime(2017, 3, 30, 3, 33, 45),\n",
       " datetime.datetime(2017, 3, 23, 23, 3, 45),\n",
       " datetime.datetime(2017, 3, 24, 3, 33, 45),\n",
       " datetime.datetime(2017, 3, 24, 9, 3, 45),\n",
       " datetime.datetime(2017, 3, 26, 22, 3, 45),\n",
       " datetime.datetime(2017, 3, 30, 13, 33, 45),\n",
       " datetime.datetime(2017, 3, 30, 7, 33, 45),\n",
       " datetime.datetime(2017, 4, 3, 21, 33, 45),\n",
       " datetime.datetime(2017, 3, 23, 11, 3, 45),\n",
       " datetime.datetime(2017, 4, 2, 16, 3, 45),\n",
       " datetime.datetime(2017, 3, 29, 19, 33, 45),\n",
       " datetime.datetime(2017, 4, 4, 5, 33, 45),\n",
       " datetime.datetime(2017, 3, 22, 16, 33, 45),\n",
       " datetime.datetime(2017, 3, 24, 13, 33, 45),\n",
       " datetime.datetime(2017, 3, 29, 21, 33, 45),\n",
       " datetime.datetime(2017, 4, 2, 6, 3, 45),\n",
       " datetime.datetime(2017, 3, 23, 9, 3, 45),\n",
       " datetime.datetime(2017, 4, 5, 17, 3, 45),\n",
       " datetime.datetime(2017, 3, 21, 11, 3, 45),\n",
       " datetime.datetime(2017, 4, 3, 6, 33, 45),\n",
       " datetime.datetime(2017, 4, 1, 21, 33, 45),\n",
       " datetime.datetime(2017, 4, 5, 5, 3, 45),\n",
       " datetime.datetime(2017, 3, 21, 10, 3, 45),\n",
       " datetime.datetime(2017, 3, 30, 5, 33, 45),\n",
       " datetime.datetime(2017, 3, 25, 22, 3, 45),\n",
       " datetime.datetime(2017, 3, 21, 2, 3, 45),\n",
       " datetime.datetime(2017, 3, 21, 5, 33, 45),\n",
       " datetime.datetime(2017, 4, 2, 18, 33, 45),\n",
       " datetime.datetime(2017, 4, 3, 0, 3, 45),\n",
       " datetime.datetime(2017, 4, 5, 16, 3, 45),\n",
       " datetime.datetime(2017, 4, 3, 14, 3, 45),\n",
       " datetime.datetime(2017, 4, 3, 7, 3, 45),\n",
       " datetime.datetime(2017, 4, 3, 18, 33, 45),\n",
       " datetime.datetime(2017, 4, 5, 6, 3, 45),\n",
       " datetime.datetime(2017, 4, 3, 14, 33, 45),\n",
       " datetime.datetime(2017, 3, 30, 16, 33, 45),\n",
       " datetime.datetime(2017, 3, 21, 23, 3, 45),\n",
       " datetime.datetime(2017, 4, 4, 2, 33, 45),\n",
       " datetime.datetime(2017, 3, 22, 15, 3, 45),\n",
       " datetime.datetime(2017, 4, 2, 5, 3, 45),\n",
       " datetime.datetime(2017, 4, 4, 12, 3, 45),\n",
       " datetime.datetime(2017, 3, 20, 15, 33, 45),\n",
       " datetime.datetime(2017, 3, 30, 1, 33, 45),\n",
       " datetime.datetime(2017, 4, 2, 7, 33, 45),\n",
       " datetime.datetime(2017, 3, 22, 2, 33, 45),\n",
       " datetime.datetime(2017, 4, 3, 17, 3, 45),\n",
       " datetime.datetime(2017, 3, 29, 19, 3, 45),\n",
       " datetime.datetime(2017, 4, 2, 19, 3, 45),\n",
       " datetime.datetime(2017, 4, 3, 2, 3, 45),\n",
       " datetime.datetime(2017, 3, 23, 6, 3, 45),\n",
       " datetime.datetime(2017, 3, 24, 18, 33, 45),\n",
       " datetime.datetime(2017, 4, 5, 8, 33, 45),\n",
       " datetime.datetime(2017, 3, 22, 8, 33, 45),\n",
       " datetime.datetime(2017, 3, 20, 18, 3, 45),\n",
       " datetime.datetime(2017, 3, 28, 22, 3, 45),\n",
       " datetime.datetime(2017, 4, 2, 20, 33, 45),\n",
       " datetime.datetime(2017, 3, 28, 23, 3, 45),\n",
       " datetime.datetime(2017, 4, 3, 0, 33, 45),\n",
       " datetime.datetime(2017, 3, 21, 1, 33, 45),\n",
       " datetime.datetime(2017, 3, 20, 23, 3, 45),\n",
       " datetime.datetime(2017, 3, 28, 19, 33, 45),\n",
       " datetime.datetime(2017, 3, 28, 21, 33, 45),\n",
       " datetime.datetime(2017, 4, 5, 8, 3, 45),\n",
       " datetime.datetime(2017, 3, 20, 18, 33, 45),\n",
       " datetime.datetime(2017, 4, 2, 1, 3, 45),\n",
       " datetime.datetime(2017, 3, 23, 4, 3, 45),\n",
       " datetime.datetime(2017, 3, 22, 0, 33, 45),\n",
       " datetime.datetime(2017, 3, 21, 14, 3, 45),\n",
       " datetime.datetime(2017, 4, 4, 23, 3, 45),\n",
       " datetime.datetime(2017, 3, 24, 4, 33, 45),\n",
       " datetime.datetime(2017, 3, 21, 4, 3, 45),\n",
       " datetime.datetime(2017, 4, 5, 15, 33, 45),\n",
       " datetime.datetime(2017, 3, 26, 23, 33, 45),\n",
       " datetime.datetime(2017, 3, 26, 17, 33, 45),\n",
       " datetime.datetime(2017, 4, 5, 16, 33, 45),\n",
       " datetime.datetime(2017, 3, 24, 2, 33, 45),\n",
       " datetime.datetime(2017, 3, 23, 5, 33, 45),\n",
       " datetime.datetime(2017, 3, 23, 20, 3, 45),\n",
       " datetime.datetime(2017, 3, 30, 10, 33, 45),\n",
       " datetime.datetime(2017, 4, 2, 9, 33, 45),\n",
       " datetime.datetime(2017, 4, 4, 9, 33, 45),\n",
       " datetime.datetime(2017, 3, 30, 7, 3, 45),\n",
       " datetime.datetime(2017, 4, 4, 11, 3, 45),\n",
       " datetime.datetime(2017, 4, 5, 21, 3, 45)]"
      ]
     },
     "execution_count": 56,
     "metadata": {},
     "output_type": "execute_result"
    }
   ],
   "source": [
    "new_temp"
   ]
  },
  {
   "cell_type": "code",
   "execution_count": null,
   "id": "9009b36a",
   "metadata": {},
   "outputs": [],
   "source": []
  }
 ],
 "metadata": {
  "kernelspec": {
   "display_name": "Python 3 (ipykernel)",
   "language": "python",
   "name": "python3"
  },
  "language_info": {
   "codemirror_mode": {
    "name": "ipython",
    "version": 3
   },
   "file_extension": ".py",
   "mimetype": "text/x-python",
   "name": "python",
   "nbconvert_exporter": "python",
   "pygments_lexer": "ipython3",
   "version": "3.9.13"
  }
 },
 "nbformat": 4,
 "nbformat_minor": 5
}
